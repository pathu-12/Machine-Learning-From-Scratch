{
 "cells": [
  {
   "cell_type": "markdown",
   "id": "b2e2dd4b",
   "metadata": {},
   "source": [
    "### Feature Scaling\n",
    "Feature Scaling is a technique in which the independent features are represented in a fixed scale.\n",
    "![FEATURE SCALING](./Images/1.png)\n",
    "#### Types of Feature Scaling\n",
    "There are two types of feature scaling techniques are there that are standardization and normalization."
   ]
  },
  {
   "cell_type": "markdown",
   "id": "a43534e5",
   "metadata": {},
   "source": [
    "### Standarization\n",
    "Standarization is the technique in which the values are centered arouns mean with unit standard deviation i.e. **&mu;=0 & &sigma; =1**.\\\n",
    "Formula for standard deviation is \n",
    "![Standardization Formula](./Images/3.png)"
   ]
  },
  {
   "cell_type": "code",
   "execution_count": null,
   "id": "8dbe578e",
   "metadata": {},
   "outputs": [],
   "source": []
  }
 ],
 "metadata": {
  "kernelspec": {
   "display_name": "Python 3 (ipykernel)",
   "language": "python",
   "name": "python3"
  },
  "language_info": {
   "codemirror_mode": {
    "name": "ipython",
    "version": 3
   },
   "file_extension": ".py",
   "mimetype": "text/x-python",
   "name": "python",
   "nbconvert_exporter": "python",
   "pygments_lexer": "ipython3",
   "version": "3.10.2"
  }
 },
 "nbformat": 4,
 "nbformat_minor": 5
}
