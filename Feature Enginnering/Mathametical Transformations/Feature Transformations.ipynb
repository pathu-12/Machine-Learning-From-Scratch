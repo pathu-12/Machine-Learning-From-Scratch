{
 "cells": [
  {
   "cell_type": "markdown",
   "id": "4970c09f",
   "metadata": {},
   "source": [
    "# Function Transformation\n",
    "### What is feature Transformation\n",
    "Feature transformation is the mathametical transformation in which we apply the mathematical formula to perticular column and transform the values for further analysis. It is also known as **Feature engineering** i.e. creating new features from the existing ones.\\\n",
    "This technique can help to improve models performance.\n",
    "\n",
    "### Why to apply feature transformations\n",
    "- some machine learning algorithms like linear and logestic regression assume that the data to be in normal distribution.But in reality the dataset contains some kind of skew.\n",
    "- By applying this transformations to these skewed variables, we can map this skewed variables to be normal distribution with the help of which we can improove the performance of the model\n",
    "\n",
    "### Types of transformations present in sklearn\n",
    "1. Function transformations\n",
    "2. Power transformations\n",
    "3. Quantile transformations"
   ]
  },
  {
   "cell_type": "markdown",
   "id": "def4f51f",
   "metadata": {},
   "source": [
    "### Function transformations\n",
    "<ol>\n",
    "    <li>Log transformations\n",
    "        <ul>\n",
    "            <li>This transformation is not applied to those features which have negative values.</li>\n",
    "            <li>This transformation is mostly applied to <b>right-skewed data</b>.</li>\n",
    "            <li>Convert data from addictive Scale to multiplicative scale i,e, linearly distributed data.</li>\n",
    "        </ul>\n",
    "    </li>\n",
    "    <li>Reciprocal transformations\n",
    "        <ul>\n",
    "            <li>This transformation is not defined for zero.</li>\n",
    "            <li>It is a powerful transformation with a <b>radical effect</b>.</li>\n",
    "            <li>This transformation reverses the order among values of the same sign, so large values become smaller and vice-versa.</li>\n",
    "        </ul>\n",
    "    </li>\n",
    "    <li>Square transformations\n",
    "        <ul>\n",
    "            <li>This transformation mostly applies to <b>left-skewed data</b>.</li>\n",
    "        </ul>\n",
    "    </li>\n",
    "    <li>Square root transformations\n",
    "        <ul>\n",
    "            <li>This transformation is defined only for <b>positive numbers</b>.</li>\n",
    "            <li>This transformation is weaker than Log Transformation.</li>\n",
    "            <li>This can be used for reducing the skewness of <b>right-skewed data</b>.</li>\n",
    "        </ul>\n",
    "    </li>\n",
    "</ol>"
   ]
  },
  {
   "cell_type": "code",
   "execution_count": 55,
   "id": "9dd3886f",
   "metadata": {},
   "outputs": [],
   "source": [
    "import numpy as np\n",
    "import pandas as pd\n",
    "import matplotlib.pyplot as plt\n",
    "import seaborn as sns\n",
    "import warnings\n",
    "import scipy.stats as stats\n",
    "from sklearn.model_selection import train_test_split, cross_val_score\n",
    "from sklearn.metrics import accuracy_score\n",
    "from sklearn.linear_model import LogisticRegression\n",
    "from sklearn.tree import DecisionTreeClassifier\n",
    "from sklearn.impute import SimpleImputer\n",
    "from sklearn.preprocessing import FunctionTransformer\n",
    "from sklearn.pipeline import Pipeline"
   ]
  },
  {
   "cell_type": "code",
   "execution_count": 31,
   "id": "f7943307",
   "metadata": {},
   "outputs": [],
   "source": [
    "dataset = pd.read_csv(\"Datasets/titanic.csv\", usecols=[\"Age\",\"Fare\",\"Survived\"])"
   ]
  },
  {
   "cell_type": "code",
   "execution_count": 32,
   "id": "7ff26e25",
   "metadata": {},
   "outputs": [
    {
     "data": {
      "text/html": [
       "<div>\n",
       "<style scoped>\n",
       "    .dataframe tbody tr th:only-of-type {\n",
       "        vertical-align: middle;\n",
       "    }\n",
       "\n",
       "    .dataframe tbody tr th {\n",
       "        vertical-align: top;\n",
       "    }\n",
       "\n",
       "    .dataframe thead th {\n",
       "        text-align: right;\n",
       "    }\n",
       "</style>\n",
       "<table border=\"1\" class=\"dataframe\">\n",
       "  <thead>\n",
       "    <tr style=\"text-align: right;\">\n",
       "      <th></th>\n",
       "      <th>Survived</th>\n",
       "      <th>Age</th>\n",
       "      <th>Fare</th>\n",
       "    </tr>\n",
       "  </thead>\n",
       "  <tbody>\n",
       "    <tr>\n",
       "      <th>0</th>\n",
       "      <td>0</td>\n",
       "      <td>22.0</td>\n",
       "      <td>7.2500</td>\n",
       "    </tr>\n",
       "    <tr>\n",
       "      <th>1</th>\n",
       "      <td>1</td>\n",
       "      <td>38.0</td>\n",
       "      <td>71.2833</td>\n",
       "    </tr>\n",
       "    <tr>\n",
       "      <th>2</th>\n",
       "      <td>1</td>\n",
       "      <td>26.0</td>\n",
       "      <td>7.9250</td>\n",
       "    </tr>\n",
       "    <tr>\n",
       "      <th>3</th>\n",
       "      <td>1</td>\n",
       "      <td>35.0</td>\n",
       "      <td>53.1000</td>\n",
       "    </tr>\n",
       "    <tr>\n",
       "      <th>4</th>\n",
       "      <td>0</td>\n",
       "      <td>35.0</td>\n",
       "      <td>8.0500</td>\n",
       "    </tr>\n",
       "  </tbody>\n",
       "</table>\n",
       "</div>"
      ],
      "text/plain": [
       "   Survived   Age     Fare\n",
       "0         0  22.0   7.2500\n",
       "1         1  38.0  71.2833\n",
       "2         1  26.0   7.9250\n",
       "3         1  35.0  53.1000\n",
       "4         0  35.0   8.0500"
      ]
     },
     "execution_count": 32,
     "metadata": {},
     "output_type": "execute_result"
    }
   ],
   "source": [
    "dataset.head()"
   ]
  },
  {
   "cell_type": "code",
   "execution_count": 33,
   "id": "d2b73e36",
   "metadata": {},
   "outputs": [
    {
     "data": {
      "text/plain": [
       "Survived      0\n",
       "Age         177\n",
       "Fare          0\n",
       "dtype: int64"
      ]
     },
     "execution_count": 33,
     "metadata": {},
     "output_type": "execute_result"
    }
   ],
   "source": [
    "dataset.isna().sum()"
   ]
  },
  {
   "cell_type": "code",
   "execution_count": 34,
   "id": "3f7dcd94",
   "metadata": {},
   "outputs": [],
   "source": [
    "impute_age = SimpleImputer(strategy=\"median\")"
   ]
  },
  {
   "cell_type": "code",
   "execution_count": 35,
   "id": "b83697b6",
   "metadata": {},
   "outputs": [],
   "source": [
    "dataset.iloc[:,1] = impute_age.fit_transform(dataset.iloc[:,1].values.reshape(-1,1))"
   ]
  },
  {
   "cell_type": "code",
   "execution_count": 36,
   "id": "a0d2836e",
   "metadata": {},
   "outputs": [
    {
     "data": {
      "text/plain": [
       "Survived    0\n",
       "Age         0\n",
       "Fare        0\n",
       "dtype: int64"
      ]
     },
     "execution_count": 36,
     "metadata": {},
     "output_type": "execute_result"
    }
   ],
   "source": [
    "dataset.isna().sum()"
   ]
  },
  {
   "cell_type": "code",
   "execution_count": 41,
   "id": "3d61cdf7",
   "metadata": {},
   "outputs": [],
   "source": [
    "X = dataset.iloc[:,1:3]\n",
    "Y = dataset.iloc[:,0]"
   ]
  },
  {
   "cell_type": "code",
   "execution_count": 42,
   "id": "f188f9d6",
   "metadata": {},
   "outputs": [],
   "source": [
    "X_train, X_test, Y_train, Y_test = train_test_split(X,Y,test_size=0.2)"
   ]
  },
  {
   "cell_type": "code",
   "execution_count": 52,
   "id": "2ed3032d",
   "metadata": {},
   "outputs": [
    {
     "data": {
      "image/png": "[encoded data removed]",
      "text/plain": [
       "<Figure size 1008x288 with 2 Axes>"
      ]
     },
     "metadata": {
      "needs_background": "light"
     },
     "output_type": "display_data"
    }
   ],
   "source": [
    "# plotting pdf and QQ-plot for age column\n",
    "warnings.filterwarnings('ignore')\n",
    "plt.figure(figsize=(14,4))\n",
    "plt.subplot(121)\n",
    "sns.distplot(X_train[\"Age\"])\n",
    "plt.title('Age PDF')\n",
    "plt.subplot(122)\n",
    "stats.probplot(X_train['Age'], dist=\"norm\", plot=plt)\n",
    "plt.title('Age QQ Plot')\n",
    "plt.show()"
   ]
  },
  {
   "cell_type": "code",
   "execution_count": 54,
   "id": "bfe16f58",
   "metadata": {},
   "outputs": [
    {
     "data": {
      "image/png": "[encoded data removed]",
      "text/plain": [
       "<Figure size 1008x288 with 2 Axes>"
      ]
     },
     "metadata": {
      "needs_background": "light"
     },
     "output_type": "display_data"
    }
   ],
   "source": [
    "# plotting pdf and QQ-plot for fare column\n",
    "plt.figure(figsize=(14,4))\n",
    "plt.subplot(121)\n",
    "sns.distplot(X_train['Fare'])\n",
    "plt.title('Age PDF')\n",
    "plt.subplot(122)\n",
    "stats.probplot(X_train['Fare'], dist=\"norm\", plot=plt)\n",
    "plt.title('Age QQ Plot')\n",
    "plt.show()"
   ]
  },
  {
   "cell_type": "code",
   "execution_count": 58,
   "id": "bae5b983",
   "metadata": {},
   "outputs": [],
   "source": [
    "pipeline_regression = Pipeline(\n",
    "    [\n",
    "        (\n",
    "            \"Logestic Regression\", LogisticRegression()\n",
    "        )\n",
    "    ]\n",
    ")\n",
    "\n",
    "pipeline_tree = Pipeline(\n",
    "    [\n",
    "        (\n",
    "            \"Decision Tree\", DecisionTreeClassifier()\n",
    "        )\n",
    "    ]\n",
    ")"
   ]
  },
  {
   "cell_type": "code",
   "execution_count": 59,
   "id": "458da100",
   "metadata": {},
   "outputs": [
    {
     "data": {
      "text/plain": [
       "Pipeline(steps=[('Logestic Regression', LogisticRegression())])"
      ]
     },
     "execution_count": 59,
     "metadata": {},
     "output_type": "execute_result"
    }
   ],
   "source": [
    "pipeline_regression.fit(X_train,Y_train)"
   ]
  },
  {
   "cell_type": "code",
   "execution_count": 60,
   "id": "d7af30cb",
   "metadata": {},
   "outputs": [
    {
     "data": {
      "text/plain": [
       "Pipeline(steps=[('Decision Tree', DecisionTreeClassifier())])"
      ]
     },
     "execution_count": 60,
     "metadata": {},
     "output_type": "execute_result"
    }
   ],
   "source": [
    "pipeline_tree.fit(X_train,Y_train)"
   ]
  },
  {
   "cell_type": "code",
   "execution_count": 63,
   "id": "7385e4dd",
   "metadata": {},
   "outputs": [],
   "source": [
    "Y_pred_regression = pipeline_regression.predict(X_test)\n",
    "Y_pred_classification = pipeline_tree.predict(X_test)"
   ]
  },
  {
   "cell_type": "code",
   "execution_count": 64,
   "id": "5f7785b9",
   "metadata": {},
   "outputs": [
    {
     "name": "stdout",
     "output_type": "stream",
     "text": [
      "The accuracy of Logestic Regression without transformations is 0.7094972067039106\n",
      "The accuracy of Decision Tree without transformations is 0.7094972067039106\n"
     ]
    }
   ],
   "source": [
    "print(f\"The accuracy of Logestic Regression without transformations is {accuracy_score(Y_test,Y_pred_regression)}\")\n",
    "print(f\"The accuracy of Decision Tree without transformations is {accuracy_score(Y_test,Y_pred_regression)}\")"
   ]
  },
  {
   "cell_type": "code",
   "execution_count": null,
   "id": "334c4ae4",
   "metadata": {},
   "outputs": [],
   "source": []
  }
 ],
 "metadata": {
  "kernelspec": {
   "display_name": "Python 3 (ipykernel)",
   "language": "python",
   "name": "python3"
  },
  "language_info": {
   "codemirror_mode": {
    "name": "ipython",
    "version": 3
   },
   "file_extension": ".py",
   "mimetype": "text/x-python",
   "name": "python",
   "nbconvert_exporter": "python",
   "pygments_lexer": "ipython3",
   "version": "3.10.2"
  }
 },
 "nbformat": 4,
 "nbformat_minor": 5
}
